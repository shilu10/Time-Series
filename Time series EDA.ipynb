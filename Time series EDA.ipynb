{
 "cells": [
  {
   "cell_type": "code",
   "execution_count": 67,
   "id": "3929ab37",
   "metadata": {},
   "outputs": [
    {
     "name": "stdout",
     "output_type": "stream",
     "text": [
      "0.10.0\n"
     ]
    }
   ],
   "source": [
    "import pandas_datareader as pdr\n",
    "import pandas as pd \n",
    "import numpy as np\n",
    "import matplotlib.pyplot as plt\n",
    "from statsmodels.tsa.seasonal import seasonal_decompose\n",
    "from datetime import datetime\n",
    "print(pdr.__version__)"
   ]
  },
  {
   "cell_type": "code",
   "execution_count": null,
   "id": "bf3f9a61",
   "metadata": {},
   "outputs": [],
   "source": [
    "\n",
    "from jupyterthemes import get_themes\n",
    "import jupyterthemes as jt\n",
    "from jupyterthemes.stylefx import set_nb_theme\n",
    "\n",
    "set_nb_theme('oceans16')"
   ]
  },
  {
   "cell_type": "code",
   "execution_count": 47,
   "id": "52b0d80e",
   "metadata": {},
   "outputs": [],
   "source": [
    "df_tesla = pdr.get_data_yahoo('TSLA')"
   ]
  },
  {
   "cell_type": "code",
   "execution_count": 21,
   "id": "5111e77e",
   "metadata": {},
   "outputs": [
    {
     "data": {
      "text/html": [
       "<div>\n",
       "<style scoped>\n",
       "    .dataframe tbody tr th:only-of-type {\n",
       "        vertical-align: middle;\n",
       "    }\n",
       "\n",
       "    .dataframe tbody tr th {\n",
       "        vertical-align: top;\n",
       "    }\n",
       "\n",
       "    .dataframe thead th {\n",
       "        text-align: right;\n",
       "    }\n",
       "</style>\n",
       "<table border=\"1\" class=\"dataframe\">\n",
       "  <thead>\n",
       "    <tr style=\"text-align: right;\">\n",
       "      <th></th>\n",
       "      <th>High</th>\n",
       "      <th>Low</th>\n",
       "      <th>Open</th>\n",
       "      <th>Close</th>\n",
       "      <th>Volume</th>\n",
       "      <th>Adj Close</th>\n",
       "    </tr>\n",
       "    <tr>\n",
       "      <th>Date</th>\n",
       "      <th></th>\n",
       "      <th></th>\n",
       "      <th></th>\n",
       "      <th></th>\n",
       "      <th></th>\n",
       "      <th></th>\n",
       "    </tr>\n",
       "  </thead>\n",
       "  <tbody>\n",
       "    <tr>\n",
       "      <th>2017-04-24</th>\n",
       "      <td>62.110001</td>\n",
       "      <td>61.203999</td>\n",
       "      <td>61.844002</td>\n",
       "      <td>61.605999</td>\n",
       "      <td>25417500.0</td>\n",
       "      <td>61.605999</td>\n",
       "    </tr>\n",
       "    <tr>\n",
       "      <th>2017-04-25</th>\n",
       "      <td>62.796001</td>\n",
       "      <td>61.172001</td>\n",
       "      <td>61.599998</td>\n",
       "      <td>62.757999</td>\n",
       "      <td>33688500.0</td>\n",
       "      <td>62.757999</td>\n",
       "    </tr>\n",
       "    <tr>\n",
       "      <th>2017-04-26</th>\n",
       "      <td>62.900002</td>\n",
       "      <td>61.799999</td>\n",
       "      <td>62.473999</td>\n",
       "      <td>62.034000</td>\n",
       "      <td>23475000.0</td>\n",
       "      <td>62.034000</td>\n",
       "    </tr>\n",
       "    <tr>\n",
       "      <th>2017-04-27</th>\n",
       "      <td>62.618000</td>\n",
       "      <td>61.500000</td>\n",
       "      <td>62.338001</td>\n",
       "      <td>61.726002</td>\n",
       "      <td>17343000.0</td>\n",
       "      <td>61.726002</td>\n",
       "    </tr>\n",
       "    <tr>\n",
       "      <th>2017-04-28</th>\n",
       "      <td>62.959999</td>\n",
       "      <td>61.599998</td>\n",
       "      <td>61.966000</td>\n",
       "      <td>62.813999</td>\n",
       "      <td>22527500.0</td>\n",
       "      <td>62.813999</td>\n",
       "    </tr>\n",
       "    <tr>\n",
       "      <th>...</th>\n",
       "      <td>...</td>\n",
       "      <td>...</td>\n",
       "      <td>...</td>\n",
       "      <td>...</td>\n",
       "      <td>...</td>\n",
       "      <td>...</td>\n",
       "    </tr>\n",
       "    <tr>\n",
       "      <th>2022-04-14</th>\n",
       "      <td>1012.710022</td>\n",
       "      <td>982.190002</td>\n",
       "      <td>999.289978</td>\n",
       "      <td>985.000000</td>\n",
       "      <td>19444000.0</td>\n",
       "      <td>985.000000</td>\n",
       "    </tr>\n",
       "    <tr>\n",
       "      <th>2022-04-18</th>\n",
       "      <td>1014.919983</td>\n",
       "      <td>973.409973</td>\n",
       "      <td>989.030029</td>\n",
       "      <td>1004.289978</td>\n",
       "      <td>17238400.0</td>\n",
       "      <td>1004.289978</td>\n",
       "    </tr>\n",
       "    <tr>\n",
       "      <th>2022-04-19</th>\n",
       "      <td>1034.939941</td>\n",
       "      <td>995.330017</td>\n",
       "      <td>1005.059998</td>\n",
       "      <td>1028.150024</td>\n",
       "      <td>16615900.0</td>\n",
       "      <td>1028.150024</td>\n",
       "    </tr>\n",
       "    <tr>\n",
       "      <th>2022-04-20</th>\n",
       "      <td>1034.000000</td>\n",
       "      <td>975.250000</td>\n",
       "      <td>1030.000000</td>\n",
       "      <td>977.200012</td>\n",
       "      <td>23570400.0</td>\n",
       "      <td>977.200012</td>\n",
       "    </tr>\n",
       "    <tr>\n",
       "      <th>2022-04-21</th>\n",
       "      <td>1092.219971</td>\n",
       "      <td>996.419983</td>\n",
       "      <td>1074.729980</td>\n",
       "      <td>1008.780029</td>\n",
       "      <td>35080700.0</td>\n",
       "      <td>1008.780029</td>\n",
       "    </tr>\n",
       "  </tbody>\n",
       "</table>\n",
       "<p>1259 rows × 6 columns</p>\n",
       "</div>"
      ],
      "text/plain": [
       "                   High         Low         Open        Close      Volume  \\\n",
       "Date                                                                        \n",
       "2017-04-24    62.110001   61.203999    61.844002    61.605999  25417500.0   \n",
       "2017-04-25    62.796001   61.172001    61.599998    62.757999  33688500.0   \n",
       "2017-04-26    62.900002   61.799999    62.473999    62.034000  23475000.0   \n",
       "2017-04-27    62.618000   61.500000    62.338001    61.726002  17343000.0   \n",
       "2017-04-28    62.959999   61.599998    61.966000    62.813999  22527500.0   \n",
       "...                 ...         ...          ...          ...         ...   \n",
       "2022-04-14  1012.710022  982.190002   999.289978   985.000000  19444000.0   \n",
       "2022-04-18  1014.919983  973.409973   989.030029  1004.289978  17238400.0   \n",
       "2022-04-19  1034.939941  995.330017  1005.059998  1028.150024  16615900.0   \n",
       "2022-04-20  1034.000000  975.250000  1030.000000   977.200012  23570400.0   \n",
       "2022-04-21  1092.219971  996.419983  1074.729980  1008.780029  35080700.0   \n",
       "\n",
       "              Adj Close  \n",
       "Date                     \n",
       "2017-04-24    61.605999  \n",
       "2017-04-25    62.757999  \n",
       "2017-04-26    62.034000  \n",
       "2017-04-27    61.726002  \n",
       "2017-04-28    62.813999  \n",
       "...                 ...  \n",
       "2022-04-14   985.000000  \n",
       "2022-04-18  1004.289978  \n",
       "2022-04-19  1028.150024  \n",
       "2022-04-20   977.200012  \n",
       "2022-04-21  1008.780029  \n",
       "\n",
       "[1259 rows x 6 columns]"
      ]
     },
     "execution_count": 21,
     "metadata": {},
     "output_type": "execute_result"
    }
   ],
   "source": [
    "df_tesla"
   ]
  },
  {
   "cell_type": "code",
   "execution_count": 25,
   "id": "99026ed9",
   "metadata": {},
   "outputs": [
    {
     "data": {
      "text/plain": [
       "1143"
      ]
     },
     "execution_count": 25,
     "metadata": {},
     "output_type": "execute_result"
    }
   ],
   "source": [
    "df_tesla['High'].argmax()"
   ]
  },
  {
   "cell_type": "code",
   "execution_count": 28,
   "id": "d32a0901",
   "metadata": {},
   "outputs": [
    {
     "data": {
      "text/plain": [
       "37.33599853515625"
      ]
     },
     "execution_count": 28,
     "metadata": {},
     "output_type": "execute_result"
    }
   ],
   "source": [
    "df_tesla['High'].min()"
   ]
  },
  {
   "cell_type": "code",
   "execution_count": 27,
   "id": "9adb3338",
   "metadata": {},
   "outputs": [
    {
     "data": {
      "text/plain": [
       "High         3.733600e+01\n",
       "Low          3.539800e+01\n",
       "Open         3.710200e+01\n",
       "Close        3.579400e+01\n",
       "Volume       6.532200e+07\n",
       "Adj Close    3.579400e+01\n",
       "Name: 2019-06-03 00:00:00, dtype: float64"
      ]
     },
     "execution_count": 27,
     "metadata": {},
     "output_type": "execute_result"
    }
   ],
   "source": [
    "df_tesla.iloc[530]"
   ]
  },
  {
   "cell_type": "code",
   "execution_count": 33,
   "id": "9e616d0b",
   "metadata": {},
   "outputs": [
    {
     "data": {
      "text/plain": [
       "<AxesSubplot:xlabel='Date'>"
      ]
     },
     "execution_count": 33,
     "metadata": {},
     "output_type": "execute_result"
    },
    {
     "data": {
      "image/png": "[encoded data removed]",
      "text/plain": [
       "<Figure size 720x720 with 1 Axes>"
      ]
     },
     "metadata": {
      "needs_background": "light"
     },
     "output_type": "display_data"
    }
   ],
   "source": [
    "df_tesla['High'].plot(figsize = (10, 10), xlim = ['2018-04-15', '2022-01-10'], c = 'green' )"
   ]
  },
  {
   "cell_type": "code",
   "execution_count": 42,
   "id": "aa7cea57",
   "metadata": {},
   "outputs": [
    {
     "data": {
      "text/plain": [
       "[<matplotlib.lines.Line2D at 0x7f32539825b0>]"
      ]
     },
     "execution_count": 42,
     "metadata": {},
     "output_type": "execute_result"
    },
    {
     "data": {
      "image/png": "[encoded data removed]",
      "text/plain": [
       "<Figure size 432x288 with 1 Axes>"
      ]
     },
     "metadata": {
      "needs_background": "light"
     },
     "output_type": "display_data"
    }
   ],
   "source": [
    "figure, axis = plt.subplots()\n",
    "\n",
    "figure.title = \"Just a revision\"\n",
    "\n",
    "axis.plot(df_tesla.index, df_tesla['High'])"
   ]
  },
  {
   "cell_type": "code",
   "execution_count": 48,
   "id": "dd304ba3",
   "metadata": {},
   "outputs": [],
   "source": [
    "df_tesla = df_tesla.reset_index()"
   ]
  },
  {
   "cell_type": "code",
   "execution_count": 65,
   "id": "82adeca1",
   "metadata": {},
   "outputs": [
    {
     "data": {
      "text/plain": [
       "0      2017-04-24\n",
       "1      2017-04-25\n",
       "2      2017-04-26\n",
       "3      2017-04-27\n",
       "4      2017-04-28\n",
       "          ...    \n",
       "1254   2022-04-14\n",
       "1255   2022-04-18\n",
       "1256   2022-04-19\n",
       "1257   2022-04-20\n",
       "1258   2022-04-21\n",
       "Name: Date, Length: 1259, dtype: datetime64[ns]"
      ]
     },
     "execution_count": 65,
     "metadata": {},
     "output_type": "execute_result"
    }
   ],
   "source": [
    "pd.to_datetime(df_tesla['Date'])"
   ]
  },
  {
   "cell_type": "code",
   "execution_count": 66,
   "id": "f74ebb0d",
   "metadata": {},
   "outputs": [
    {
     "data": {
      "text/html": [
       "<div>\n",
       "<style scoped>\n",
       "    .dataframe tbody tr th:only-of-type {\n",
       "        vertical-align: middle;\n",
       "    }\n",
       "\n",
       "    .dataframe tbody tr th {\n",
       "        vertical-align: top;\n",
       "    }\n",
       "\n",
       "    .dataframe thead th {\n",
       "        text-align: right;\n",
       "    }\n",
       "</style>\n",
       "<table border=\"1\" class=\"dataframe\">\n",
       "  <thead>\n",
       "    <tr style=\"text-align: right;\">\n",
       "      <th></th>\n",
       "      <th>Date</th>\n",
       "      <th>High</th>\n",
       "      <th>Low</th>\n",
       "      <th>Open</th>\n",
       "      <th>Close</th>\n",
       "      <th>Volume</th>\n",
       "      <th>Adj Close</th>\n",
       "    </tr>\n",
       "  </thead>\n",
       "  <tbody>\n",
       "    <tr>\n",
       "      <th>0</th>\n",
       "      <td>2017-04-24</td>\n",
       "      <td>62.110001</td>\n",
       "      <td>61.203999</td>\n",
       "      <td>61.844002</td>\n",
       "      <td>61.605999</td>\n",
       "      <td>25417500.0</td>\n",
       "      <td>61.605999</td>\n",
       "    </tr>\n",
       "    <tr>\n",
       "      <th>1</th>\n",
       "      <td>2017-04-25</td>\n",
       "      <td>62.796001</td>\n",
       "      <td>61.172001</td>\n",
       "      <td>61.599998</td>\n",
       "      <td>62.757999</td>\n",
       "      <td>33688500.0</td>\n",
       "      <td>62.757999</td>\n",
       "    </tr>\n",
       "    <tr>\n",
       "      <th>2</th>\n",
       "      <td>2017-04-26</td>\n",
       "      <td>62.900002</td>\n",
       "      <td>61.799999</td>\n",
       "      <td>62.473999</td>\n",
       "      <td>62.034000</td>\n",
       "      <td>23475000.0</td>\n",
       "      <td>62.034000</td>\n",
       "    </tr>\n",
       "    <tr>\n",
       "      <th>3</th>\n",
       "      <td>2017-04-27</td>\n",
       "      <td>62.618000</td>\n",
       "      <td>61.500000</td>\n",
       "      <td>62.338001</td>\n",
       "      <td>61.726002</td>\n",
       "      <td>17343000.0</td>\n",
       "      <td>61.726002</td>\n",
       "    </tr>\n",
       "    <tr>\n",
       "      <th>4</th>\n",
       "      <td>2017-04-28</td>\n",
       "      <td>62.959999</td>\n",
       "      <td>61.599998</td>\n",
       "      <td>61.966000</td>\n",
       "      <td>62.813999</td>\n",
       "      <td>22527500.0</td>\n",
       "      <td>62.813999</td>\n",
       "    </tr>\n",
       "    <tr>\n",
       "      <th>...</th>\n",
       "      <td>...</td>\n",
       "      <td>...</td>\n",
       "      <td>...</td>\n",
       "      <td>...</td>\n",
       "      <td>...</td>\n",
       "      <td>...</td>\n",
       "      <td>...</td>\n",
       "    </tr>\n",
       "    <tr>\n",
       "      <th>1254</th>\n",
       "      <td>2022-04-14</td>\n",
       "      <td>1012.710022</td>\n",
       "      <td>982.190002</td>\n",
       "      <td>999.289978</td>\n",
       "      <td>985.000000</td>\n",
       "      <td>19444000.0</td>\n",
       "      <td>985.000000</td>\n",
       "    </tr>\n",
       "    <tr>\n",
       "      <th>1255</th>\n",
       "      <td>2022-04-18</td>\n",
       "      <td>1014.919983</td>\n",
       "      <td>973.409973</td>\n",
       "      <td>989.030029</td>\n",
       "      <td>1004.289978</td>\n",
       "      <td>17238400.0</td>\n",
       "      <td>1004.289978</td>\n",
       "    </tr>\n",
       "    <tr>\n",
       "      <th>1256</th>\n",
       "      <td>2022-04-19</td>\n",
       "      <td>1034.939941</td>\n",
       "      <td>995.330017</td>\n",
       "      <td>1005.059998</td>\n",
       "      <td>1028.150024</td>\n",
       "      <td>16615900.0</td>\n",
       "      <td>1028.150024</td>\n",
       "    </tr>\n",
       "    <tr>\n",
       "      <th>1257</th>\n",
       "      <td>2022-04-20</td>\n",
       "      <td>1034.000000</td>\n",
       "      <td>975.250000</td>\n",
       "      <td>1030.000000</td>\n",
       "      <td>977.200012</td>\n",
       "      <td>23570400.0</td>\n",
       "      <td>977.200012</td>\n",
       "    </tr>\n",
       "    <tr>\n",
       "      <th>1258</th>\n",
       "      <td>2022-04-21</td>\n",
       "      <td>1092.219971</td>\n",
       "      <td>996.419983</td>\n",
       "      <td>1074.729980</td>\n",
       "      <td>1008.780029</td>\n",
       "      <td>35080700.0</td>\n",
       "      <td>1008.780029</td>\n",
       "    </tr>\n",
       "  </tbody>\n",
       "</table>\n",
       "<p>1259 rows × 7 columns</p>\n",
       "</div>"
      ],
      "text/plain": [
       "           Date         High         Low         Open        Close  \\\n",
       "0    2017-04-24    62.110001   61.203999    61.844002    61.605999   \n",
       "1    2017-04-25    62.796001   61.172001    61.599998    62.757999   \n",
       "2    2017-04-26    62.900002   61.799999    62.473999    62.034000   \n",
       "3    2017-04-27    62.618000   61.500000    62.338001    61.726002   \n",
       "4    2017-04-28    62.959999   61.599998    61.966000    62.813999   \n",
       "...         ...          ...         ...          ...          ...   \n",
       "1254 2022-04-14  1012.710022  982.190002   999.289978   985.000000   \n",
       "1255 2022-04-18  1014.919983  973.409973   989.030029  1004.289978   \n",
       "1256 2022-04-19  1034.939941  995.330017  1005.059998  1028.150024   \n",
       "1257 2022-04-20  1034.000000  975.250000  1030.000000   977.200012   \n",
       "1258 2022-04-21  1092.219971  996.419983  1074.729980  1008.780029   \n",
       "\n",
       "          Volume    Adj Close  \n",
       "0     25417500.0    61.605999  \n",
       "1     33688500.0    62.757999  \n",
       "2     23475000.0    62.034000  \n",
       "3     17343000.0    61.726002  \n",
       "4     22527500.0    62.813999  \n",
       "...          ...          ...  \n",
       "1254  19444000.0   985.000000  \n",
       "1255  17238400.0  1004.289978  \n",
       "1256  16615900.0  1028.150024  \n",
       "1257  23570400.0   977.200012  \n",
       "1258  35080700.0  1008.780029  \n",
       "\n",
       "[1259 rows x 7 columns]"
      ]
     },
     "execution_count": 66,
     "metadata": {},
     "output_type": "execute_result"
    }
   ],
   "source": [
    "df_tesla"
   ]
  },
  {
   "cell_type": "markdown",
   "id": "da812762",
   "metadata": {},
   "source": [
    "## Decomposition of Time - Series"
   ]
  },
  {
   "cell_type": "code",
   "execution_count": 68,
   "id": "93868214",
   "metadata": {},
   "outputs": [],
   "source": [
    "current_data = df_tesla['High']"
   ]
  },
  {
   "cell_type": "code",
   "execution_count": 69,
   "id": "3f85f955",
   "metadata": {},
   "outputs": [
    {
     "data": {
      "text/plain": [
       "<AxesSubplot:>"
      ]
     },
     "execution_count": 69,
     "metadata": {},
     "output_type": "execute_result"
    },
    {
     "data": {
      "image/png": "[encoded data removed]",
      "text/plain": [
       "<Figure size 432x288 with 1 Axes>"
      ]
     },
     "metadata": {
      "needs_background": "light"
     },
     "output_type": "display_data"
    }
   ],
   "source": [
    "current_data.plot()"
   ]
  },
  {
   "cell_type": "markdown",
   "id": "db689a51",
   "metadata": {},
   "source": [
    "## So from the above plot, we can able to see the upward trends over the time "
   ]
  },
  {
   "cell_type": "code",
   "execution_count": 80,
   "id": "ef1111e7",
   "metadata": {},
   "outputs": [],
   "source": [
    "# Two methods for the decomposition of time-series, one is multiplicative decomposition and another one is \n",
    "# additive time-series\n",
    "mul_decom = seasonal_decompose(current_data, model = 'multiplication', period = 1)\n",
    "add_decom = seasonal_decompose(current_data, model = 'addition', period = 1)"
   ]
  },
  {
   "cell_type": "code",
   "execution_count": 77,
   "id": "9d74fe63",
   "metadata": {},
   "outputs": [
    {
     "data": {
      "image/png": "[encoded data removed]",
      "text/plain": [
       "<Figure size 432x288 with 4 Axes>"
      ]
     },
     "execution_count": 77,
     "metadata": {},
     "output_type": "execute_result"
    },
    {
     "data": {
      "image/png": "[encoded data removed]",
      "text/plain": [
       "<Figure size 432x288 with 4 Axes>"
      ]
     },
     "metadata": {
      "needs_background": "light"
     },
     "output_type": "display_data"
    }
   ],
   "source": [
    "mul_decom.plot()"
   ]
  },
  {
   "cell_type": "code",
   "execution_count": 78,
   "id": "b9a0a84b",
   "metadata": {},
   "outputs": [
    {
     "data": {
      "image/png": "[encoded data removed]",
      "text/plain": [
       "<Figure size 432x288 with 4 Axes>"
      ]
     },
     "execution_count": 78,
     "metadata": {},
     "output_type": "execute_result"
    },
    {
     "data": {
      "image/png": "[encoded data removed]",
      "text/plain": [
       "<Figure size 432x288 with 4 Axes>"
      ]
     },
     "metadata": {
      "needs_background": "light"
     },
     "output_type": "display_data"
    }
   ],
   "source": [
    "add_decom.plot()"
   ]
  },
  {
   "cell_type": "code",
   "execution_count": 83,
   "id": "78b292ff",
   "metadata": {},
   "outputs": [],
   "source": [
    "add_df = pd.concat([add_decom.seasonal, add_decom.trend, add_decom.resid], axis = 1)"
   ]
  },
  {
   "cell_type": "code",
   "execution_count": 84,
   "id": "6ff172b7",
   "metadata": {},
   "outputs": [
    {
     "data": {
      "text/html": [
       "<div>\n",
       "<style scoped>\n",
       "    .dataframe tbody tr th:only-of-type {\n",
       "        vertical-align: middle;\n",
       "    }\n",
       "\n",
       "    .dataframe tbody tr th {\n",
       "        vertical-align: top;\n",
       "    }\n",
       "\n",
       "    .dataframe thead th {\n",
       "        text-align: right;\n",
       "    }\n",
       "</style>\n",
       "<table border=\"1\" class=\"dataframe\">\n",
       "  <thead>\n",
       "    <tr style=\"text-align: right;\">\n",
       "      <th></th>\n",
       "      <th>seasonal</th>\n",
       "      <th>trend</th>\n",
       "      <th>resid</th>\n",
       "    </tr>\n",
       "  </thead>\n",
       "  <tbody>\n",
       "    <tr>\n",
       "      <th>0</th>\n",
       "      <td>0.0</td>\n",
       "      <td>62.110001</td>\n",
       "      <td>0.0</td>\n",
       "    </tr>\n",
       "    <tr>\n",
       "      <th>1</th>\n",
       "      <td>0.0</td>\n",
       "      <td>62.796001</td>\n",
       "      <td>0.0</td>\n",
       "    </tr>\n",
       "    <tr>\n",
       "      <th>2</th>\n",
       "      <td>0.0</td>\n",
       "      <td>62.900002</td>\n",
       "      <td>0.0</td>\n",
       "    </tr>\n",
       "    <tr>\n",
       "      <th>3</th>\n",
       "      <td>0.0</td>\n",
       "      <td>62.618000</td>\n",
       "      <td>0.0</td>\n",
       "    </tr>\n",
       "    <tr>\n",
       "      <th>4</th>\n",
       "      <td>0.0</td>\n",
       "      <td>62.959999</td>\n",
       "      <td>0.0</td>\n",
       "    </tr>\n",
       "    <tr>\n",
       "      <th>...</th>\n",
       "      <td>...</td>\n",
       "      <td>...</td>\n",
       "      <td>...</td>\n",
       "    </tr>\n",
       "    <tr>\n",
       "      <th>1254</th>\n",
       "      <td>0.0</td>\n",
       "      <td>1012.710022</td>\n",
       "      <td>0.0</td>\n",
       "    </tr>\n",
       "    <tr>\n",
       "      <th>1255</th>\n",
       "      <td>0.0</td>\n",
       "      <td>1014.919983</td>\n",
       "      <td>0.0</td>\n",
       "    </tr>\n",
       "    <tr>\n",
       "      <th>1256</th>\n",
       "      <td>0.0</td>\n",
       "      <td>1034.939941</td>\n",
       "      <td>0.0</td>\n",
       "    </tr>\n",
       "    <tr>\n",
       "      <th>1257</th>\n",
       "      <td>0.0</td>\n",
       "      <td>1034.000000</td>\n",
       "      <td>0.0</td>\n",
       "    </tr>\n",
       "    <tr>\n",
       "      <th>1258</th>\n",
       "      <td>0.0</td>\n",
       "      <td>1092.219971</td>\n",
       "      <td>0.0</td>\n",
       "    </tr>\n",
       "  </tbody>\n",
       "</table>\n",
       "<p>1259 rows × 3 columns</p>\n",
       "</div>"
      ],
      "text/plain": [
       "      seasonal        trend  resid\n",
       "0          0.0    62.110001    0.0\n",
       "1          0.0    62.796001    0.0\n",
       "2          0.0    62.900002    0.0\n",
       "3          0.0    62.618000    0.0\n",
       "4          0.0    62.959999    0.0\n",
       "...        ...          ...    ...\n",
       "1254       0.0  1012.710022    0.0\n",
       "1255       0.0  1014.919983    0.0\n",
       "1256       0.0  1034.939941    0.0\n",
       "1257       0.0  1034.000000    0.0\n",
       "1258       0.0  1092.219971    0.0\n",
       "\n",
       "[1259 rows x 3 columns]"
      ]
     },
     "execution_count": 84,
     "metadata": {},
     "output_type": "execute_result"
    }
   ],
   "source": [
    "# 0 - seasonality and 0 - errors --- which means there is no seasonality and no errors\n",
    "add_df"
   ]
  },
  {
   "cell_type": "code",
   "execution_count": 85,
   "id": "998fa914",
   "metadata": {},
   "outputs": [],
   "source": [
    "multi_df = pd.concat([mul_decom.seasonal, mul_decom.trend, mul_decom.resid], axis = 1)"
   ]
  },
  {
   "cell_type": "code",
   "execution_count": 86,
   "id": "9f1235bf",
   "metadata": {},
   "outputs": [
    {
     "data": {
      "text/html": [
       "<div>\n",
       "<style scoped>\n",
       "    .dataframe tbody tr th:only-of-type {\n",
       "        vertical-align: middle;\n",
       "    }\n",
       "\n",
       "    .dataframe tbody tr th {\n",
       "        vertical-align: top;\n",
       "    }\n",
       "\n",
       "    .dataframe thead th {\n",
       "        text-align: right;\n",
       "    }\n",
       "</style>\n",
       "<table border=\"1\" class=\"dataframe\">\n",
       "  <thead>\n",
       "    <tr style=\"text-align: right;\">\n",
       "      <th></th>\n",
       "      <th>seasonal</th>\n",
       "      <th>trend</th>\n",
       "      <th>resid</th>\n",
       "    </tr>\n",
       "  </thead>\n",
       "  <tbody>\n",
       "    <tr>\n",
       "      <th>0</th>\n",
       "      <td>1.0</td>\n",
       "      <td>62.110001</td>\n",
       "      <td>1.0</td>\n",
       "    </tr>\n",
       "    <tr>\n",
       "      <th>1</th>\n",
       "      <td>1.0</td>\n",
       "      <td>62.796001</td>\n",
       "      <td>1.0</td>\n",
       "    </tr>\n",
       "    <tr>\n",
       "      <th>2</th>\n",
       "      <td>1.0</td>\n",
       "      <td>62.900002</td>\n",
       "      <td>1.0</td>\n",
       "    </tr>\n",
       "    <tr>\n",
       "      <th>3</th>\n",
       "      <td>1.0</td>\n",
       "      <td>62.618000</td>\n",
       "      <td>1.0</td>\n",
       "    </tr>\n",
       "    <tr>\n",
       "      <th>4</th>\n",
       "      <td>1.0</td>\n",
       "      <td>62.959999</td>\n",
       "      <td>1.0</td>\n",
       "    </tr>\n",
       "    <tr>\n",
       "      <th>...</th>\n",
       "      <td>...</td>\n",
       "      <td>...</td>\n",
       "      <td>...</td>\n",
       "    </tr>\n",
       "    <tr>\n",
       "      <th>1254</th>\n",
       "      <td>1.0</td>\n",
       "      <td>1012.710022</td>\n",
       "      <td>1.0</td>\n",
       "    </tr>\n",
       "    <tr>\n",
       "      <th>1255</th>\n",
       "      <td>1.0</td>\n",
       "      <td>1014.919983</td>\n",
       "      <td>1.0</td>\n",
       "    </tr>\n",
       "    <tr>\n",
       "      <th>1256</th>\n",
       "      <td>1.0</td>\n",
       "      <td>1034.939941</td>\n",
       "      <td>1.0</td>\n",
       "    </tr>\n",
       "    <tr>\n",
       "      <th>1257</th>\n",
       "      <td>1.0</td>\n",
       "      <td>1034.000000</td>\n",
       "      <td>1.0</td>\n",
       "    </tr>\n",
       "    <tr>\n",
       "      <th>1258</th>\n",
       "      <td>1.0</td>\n",
       "      <td>1092.219971</td>\n",
       "      <td>1.0</td>\n",
       "    </tr>\n",
       "  </tbody>\n",
       "</table>\n",
       "<p>1259 rows × 3 columns</p>\n",
       "</div>"
      ],
      "text/plain": [
       "      seasonal        trend  resid\n",
       "0          1.0    62.110001    1.0\n",
       "1          1.0    62.796001    1.0\n",
       "2          1.0    62.900002    1.0\n",
       "3          1.0    62.618000    1.0\n",
       "4          1.0    62.959999    1.0\n",
       "...        ...          ...    ...\n",
       "1254       1.0  1012.710022    1.0\n",
       "1255       1.0  1014.919983    1.0\n",
       "1256       1.0  1034.939941    1.0\n",
       "1257       1.0  1034.000000    1.0\n",
       "1258       1.0  1092.219971    1.0\n",
       "\n",
       "[1259 rows x 3 columns]"
      ]
     },
     "execution_count": 86,
     "metadata": {},
     "output_type": "execute_result"
    }
   ],
   "source": [
    "# 1 - seasonality, 1 - error ---> which means there is no seasonality\n",
    "multi_df"
   ]
  },
  {
   "cell_type": "code",
   "execution_count": 88,
   "id": "3d5e25dd",
   "metadata": {},
   "outputs": [],
   "source": [
    "# Stationarity test using Augmented Ducky Fuller Test \n",
    "\n",
    "from statsmodels.tsa.stattools import adfuller\n",
    "\n",
    "# Null hypothesis is Not stationary, Alternate Hypothesis is Stationary\n",
    "# if we wanted to reject the null hypothesis, our p-value should be lesser than significance value or alpha value\n",
    "\n",
    "adfuller_test = adfuller(current_data, autolag = 'AIC')"
   ]
  },
  {
   "cell_type": "code",
   "execution_count": 94,
   "id": "c0fa4194",
   "metadata": {},
   "outputs": [
    {
     "name": "stdout",
     "output_type": "stream",
     "text": [
      "Not a Stationarity\n"
     ]
    }
   ],
   "source": [
    "p_value = adfuller_test[1]\n",
    "\n",
    "if p_value < 0.5 :\n",
    "    print(\"Stationarity successfull\")\n",
    "else :\n",
    "    print(\"Not a Stationarity\")"
   ]
  },
  {
   "cell_type": "code",
   "execution_count": 96,
   "id": "d9445434",
   "metadata": {},
   "outputs": [],
   "source": [
    "# If a time-series is not a Stationary, then we cannot able to build a model with that series\n",
    "# So we need to change the non-stationary time series to stationary time-series\n",
    "# For this we can use many different methods, one of the method is rolling stats"
   ]
  },
  {
   "cell_type": "code",
   "execution_count": null,
   "id": "88790871",
   "metadata": {},
   "outputs": [],
   "source": []
  },
  {
   "cell_type": "code",
   "execution_count": null,
   "id": "b0c6e9be",
   "metadata": {},
   "outputs": [],
   "source": []
  },
  {
   "cell_type": "code",
   "execution_count": null,
   "id": "536f8ab1",
   "metadata": {},
   "outputs": [],
   "source": []
  },
  {
   "cell_type": "code",
   "execution_count": null,
   "id": "6abc0030",
   "metadata": {},
   "outputs": [],
   "source": []
  }
 ],
 "metadata": {
  "kernelspec": {
   "display_name": "Python 3 (ipykernel)",
   "language": "python",
   "name": "python3"
  },
  "language_info": {
   "codemirror_mode": {
    "name": "ipython",
    "version": 3
   },
   "file_extension": ".py",
   "mimetype": "text/x-python",
   "name": "python",
   "nbconvert_exporter": "python",
   "pygments_lexer": "ipython3",
   "version": "3.9.2"
  }
 },
 "nbformat": 4,
 "nbformat_minor": 5
}
